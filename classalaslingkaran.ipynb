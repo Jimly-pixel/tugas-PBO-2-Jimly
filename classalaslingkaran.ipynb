{
  "nbformat": 4,
  "nbformat_minor": 0,
  "metadata": {
    "colab": {
      "provenance": [],
      "authorship_tag": "ABX9TyMc52t5fO7RSJh/H3f9ZZX1",
      "include_colab_link": true
    },
    "kernelspec": {
      "name": "python3",
      "display_name": "Python 3"
    },
    "language_info": {
      "name": "python"
    }
  },
  "cells": [
    {
      "cell_type": "markdown",
      "metadata": {
        "id": "view-in-github",
        "colab_type": "text"
      },
      "source": [
        "<a href=\"https://colab.research.google.com/github/Jimly-pixel/tugas-PBO-2-Jimly/blob/main/classalaslingkaran.ipynb\" target=\"_parent\"><img src=\"https://colab.research.google.com/assets/colab-badge.svg\" alt=\"Open In Colab\"/></a>"
      ]
    },
    {
      "cell_type": "code",
      "execution_count": 1,
      "metadata": {
        "colab": {
          "base_uri": "https://localhost:8080/"
        },
        "id": "JP3jaNlPCM06",
        "outputId": "65d991b8-f874-4f70-976c-6a4f41f13483"
      },
      "outputs": [
        {
          "output_type": "stream",
          "name": "stdout",
          "text": [
            "Keliling alas lingkaran : 43.96\n"
          ]
        }
      ],
      "source": [
        "class HitungAlasLingkaran:\n",
        "    def __init__(self, r):\n",
        "        self.r = r\n",
        "        self.phi = 3.14\n",
        "\n",
        "obj = HitungAlasLingkaran(7)\n",
        "keliling = 2 * obj.phi * obj.r\n",
        "print(\"Keliling alas lingkaran :\", keliling)"
      ]
    }
  ]
}