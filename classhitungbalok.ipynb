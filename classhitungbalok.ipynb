{
  "nbformat": 4,
  "nbformat_minor": 0,
  "metadata": {
    "colab": {
      "provenance": [],
      "authorship_tag": "ABX9TyM78m79UWrFz00/hlxxIne8",
      "include_colab_link": true
    },
    "kernelspec": {
      "name": "python3",
      "display_name": "Python 3"
    },
    "language_info": {
      "name": "python"
    }
  },
  "cells": [
    {
      "cell_type": "markdown",
      "metadata": {
        "id": "view-in-github",
        "colab_type": "text"
      },
      "source": [
        "<a href=\"https://colab.research.google.com/github/Jimly-pixel/tugas-PBO-2-Jimly/blob/main/classhitungbalok.ipynb\" target=\"_parent\"><img src=\"https://colab.research.google.com/assets/colab-badge.svg\" alt=\"Open In Colab\"/></a>"
      ]
    },
    {
      "cell_type": "code",
      "source": [
        "class HitungBalok:\n",
        "    def __init__(self, p, l, t):\n",
        "        self.p = p\n",
        "        self.l = l\n",
        "        self.t = t\n",
        "\n",
        "obj = HitungBalok(5, 3, 2)\n",
        "\n",
        "luas_permukaan = 2 * (obj.p * obj.l + obj.p * obj.t + obj.l * obj.t)\n",
        "print(\"Luas Permukaan Balok:\", luas_permukaan)"
      ],
      "metadata": {
        "colab": {
          "base_uri": "https://localhost:8080/"
        },
        "id": "qTT3hto8Eo6K",
        "outputId": "3a701594-fef5-4d22-eea1-cfbdde980c20"
      },
      "execution_count": 1,
      "outputs": [
        {
          "output_type": "stream",
          "name": "stdout",
          "text": [
            "Luas Permukaan Balok: 62\n"
          ]
        }
      ]
    }
  ]
}