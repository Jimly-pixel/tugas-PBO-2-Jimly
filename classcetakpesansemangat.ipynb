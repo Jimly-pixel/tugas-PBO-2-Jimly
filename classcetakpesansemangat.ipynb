{
  "nbformat": 4,
  "nbformat_minor": 0,
  "metadata": {
    "colab": {
      "provenance": [],
      "authorship_tag": "ABX9TyMpTkxBmRDCHMxutSA+FcJ5",
      "include_colab_link": true
    },
    "kernelspec": {
      "name": "python3",
      "display_name": "Python 3"
    },
    "language_info": {
      "name": "python"
    }
  },
  "cells": [
    {
      "cell_type": "markdown",
      "metadata": {
        "id": "view-in-github",
        "colab_type": "text"
      },
      "source": [
        "<a href=\"https://colab.research.google.com/github/Jimly-pixel/tugas-PBO-2-Jimly/blob/main/classcetakpesansemangat.ipynb\" target=\"_parent\"><img src=\"https://colab.research.google.com/assets/colab-badge.svg\" alt=\"Open In Colab\"/></a>"
      ]
    },
    {
      "cell_type": "code",
      "execution_count": 1,
      "metadata": {
        "colab": {
          "base_uri": "https://localhost:8080/"
        },
        "id": "Zr8ylqWUIb0B",
        "outputId": "5533ecaf-458c-4b4e-d5db-d5c6e9ca39a3"
      },
      "outputs": [
        {
          "output_type": "stream",
          "name": "stdout",
          "text": [
            "Jangan pernah menyerah, teruslah berjuang!\n",
            "Jangan pernah menyerah, teruslah berjuang!\n"
          ]
        }
      ],
      "source": [
        "class CetakPesanSemangat:\n",
        "    def __init__(self, pesan, jumlah):\n",
        "        self.pesan = pesan\n",
        "        self.jumlah = jumlah\n",
        "\n",
        "    def print_pesan(self):\n",
        "        for i in range(self.jumlah):\n",
        "            print(self.pesan)\n",
        "\n",
        "obj = CetakPesanSemangat(\"Jangan pernah menyerah, teruslah berjuang!\", 2)\n",
        "obj.print_pesan()"
      ]
    }
  ]
}