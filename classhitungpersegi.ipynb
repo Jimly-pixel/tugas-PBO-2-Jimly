{
  "nbformat": 4,
  "nbformat_minor": 0,
  "metadata": {
    "colab": {
      "provenance": [],
      "authorship_tag": "ABX9TyMI6i4uIaYYGwNXF+KZsUAI",
      "include_colab_link": true
    },
    "kernelspec": {
      "name": "python3",
      "display_name": "Python 3"
    },
    "language_info": {
      "name": "python"
    }
  },
  "cells": [
    {
      "cell_type": "markdown",
      "metadata": {
        "id": "view-in-github",
        "colab_type": "text"
      },
      "source": [
        "<a href=\"https://colab.research.google.com/github/Jimly-pixel/tugas-PBO-2-Jimly/blob/main/classhitungpersegi.ipynb\" target=\"_parent\"><img src=\"https://colab.research.google.com/assets/colab-badge.svg\" alt=\"Open In Colab\"/></a>"
      ]
    },
    {
      "cell_type": "code",
      "execution_count": 1,
      "metadata": {
        "colab": {
          "base_uri": "https://localhost:8080/"
        },
        "id": "fGKwjoC8Dz19",
        "outputId": "003aa132-44d5-4cf2-80c0-f2a0f1e1da24"
      },
      "outputs": [
        {
          "output_type": "stream",
          "name": "stdout",
          "text": [
            "Volume Persegi Panjang adalah: 108\n"
          ]
        }
      ],
      "source": [
        "class HitungPersegiPanjang:\n",
        "    def __init__(self, panjang, lebar, tinggi):\n",
        "        self.panjang = panjang\n",
        "        self.lebar = lebar\n",
        "        self.tinggi = tinggi\n",
        "\n",
        "obj = HitungPersegiPanjang(9, 3, 4)\n",
        "\n",
        "volume = obj.panjang * obj.lebar * obj.tinggi\n",
        "print(\"Volume Persegi Panjang adalah:\", volume)"
      ]
    }
  ]
}