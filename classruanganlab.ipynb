{
  "nbformat": 4,
  "nbformat_minor": 0,
  "metadata": {
    "colab": {
      "provenance": [],
      "authorship_tag": "ABX9TyONtQy+z0QgqDXN2pi9v06w",
      "include_colab_link": true
    },
    "kernelspec": {
      "name": "python3",
      "display_name": "Python 3"
    },
    "language_info": {
      "name": "python"
    }
  },
  "cells": [
    {
      "cell_type": "markdown",
      "metadata": {
        "id": "view-in-github",
        "colab_type": "text"
      },
      "source": [
        "<a href=\"https://colab.research.google.com/github/Jimly-pixel/tugas-PBO-2-Jimly/blob/main/classruanganlab.ipynb\" target=\"_parent\"><img src=\"https://colab.research.google.com/assets/colab-badge.svg\" alt=\"Open In Colab\"/></a>"
      ]
    },
    {
      "cell_type": "code",
      "execution_count": 4,
      "metadata": {
        "colab": {
          "base_uri": "https://localhost:8080/"
        },
        "id": "3bdwrk8A-Bbu",
        "outputId": "e2be70b7-e1c0-4d24-e4ab-ea5cfd7e6608"
      },
      "outputs": [
        {
          "output_type": "stream",
          "name": "stdout",
          "text": [
            "Nomor Ruang : 101\n",
            "Nama Lab    : Lab Komputer\n",
            "Kapasitas   : 30 orang\n"
          ]
        }
      ],
      "source": [
        "class RuangLab:\n",
        "    def __init__(self, nomor_ruang, nama_lab, kapasitas):\n",
        "        self.nomor_ruang = nomor_ruang\n",
        "        self.nama_lab = nama_lab\n",
        "        self.kapasitas = kapasitas\n",
        "\n",
        "    def print_info(self):\n",
        "        print(\"Nomor Ruang :\", self.nomor_ruang)\n",
        "        print(\"Nama Lab    :\", self.nama_lab)\n",
        "        print(\"Kapasitas   :\", self.kapasitas, \"orang\")\n",
        "\n",
        "# Membuat objek dan mencetak informasi ruang lab\n",
        "obj = RuangLab(101, \"Lab Komputer\", 30)\n",
        "obj.print_info()"
      ]
    }
  ]
}